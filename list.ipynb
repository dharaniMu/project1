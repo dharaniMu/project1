{
 "cells": [
  {
   "cell_type": "code",
   "execution_count": 1,
   "id": "66c66c5b",
   "metadata": {},
   "outputs": [
    {
     "name": "stdout",
     "output_type": "stream",
     "text": [
      "['Dharani', 9, 9, 9.567, 'chowdary']\n"
     ]
    }
   ],
   "source": [
    "dharani_list=['Dharani',9,9,9.567,'chowdary']\n",
    "print(dharani_list)"
   ]
  },
  {
   "cell_type": "code",
   "execution_count": 2,
   "id": "01d504aa",
   "metadata": {},
   "outputs": [
    {
     "name": "stdout",
     "output_type": "stream",
     "text": [
      "['Dharani', 9, 9, 9.567, 'chowdary', 34]\n"
     ]
    }
   ],
   "source": [
    "dharani_list.append(34)\n",
    "print(dharani_list)"
   ]
  },
  {
   "cell_type": "code",
   "execution_count": 7,
   "id": "6f9ddf15",
   "metadata": {},
   "outputs": [
    {
     "name": "stdout",
     "output_type": "stream",
     "text": [
      "['Dharani', 9.567, 'chowdary']\n"
     ]
    }
   ],
   "source": [
    "dharani_list.remove(9)\n",
    "print(dharani_list)"
   ]
  },
  {
   "cell_type": "code",
   "execution_count": 8,
   "id": "ec1204ad",
   "metadata": {},
   "outputs": [
    {
     "name": "stdout",
     "output_type": "stream",
     "text": [
      "['Dharani', 'd', 9.567, 'chowdary']\n"
     ]
    }
   ],
   "source": [
    "dharani_list.insert(1,'d')\n",
    "print(dharani_list)"
   ]
  },
  {
   "cell_type": "code",
   "execution_count": 9,
   "id": "ce996ff9",
   "metadata": {},
   "outputs": [
    {
     "ename": "ValueError",
     "evalue": "list.remove(x): x not in list",
     "output_type": "error",
     "traceback": [
      "\u001b[1;31m---------------------------------------------------------------------------\u001b[0m",
      "\u001b[1;31mValueError\u001b[0m                                Traceback (most recent call last)",
      "Cell \u001b[1;32mIn[9], line 1\u001b[0m\n\u001b[1;32m----> 1\u001b[0m dharani_list\u001b[38;5;241m.\u001b[39mremove(\u001b[38;5;241m34\u001b[39m)\n\u001b[0;32m      2\u001b[0m \u001b[38;5;28mprint\u001b[39m(dharani_list)\n",
      "\u001b[1;31mValueError\u001b[0m: list.remove(x): x not in list"
     ]
    }
   ],
   "source": [
    "dharani_list.remove(34)\n",
    "print(dharani_list)"
   ]
  },
  {
   "cell_type": "code",
   "execution_count": 10,
   "id": "68d73e68",
   "metadata": {},
   "outputs": [
    {
     "name": "stdout",
     "output_type": "stream",
     "text": [
      "['Dharani', 9.567, 'chowdary']\n"
     ]
    }
   ],
   "source": [
    "dharani_list.remove('d')\n",
    "print(dharani_list)"
   ]
  },
  {
   "cell_type": "code",
   "execution_count": 11,
   "id": "5a77ccec",
   "metadata": {},
   "outputs": [
    {
     "ename": "ValueError",
     "evalue": "2 is not in list",
     "output_type": "error",
     "traceback": [
      "\u001b[1;31m---------------------------------------------------------------------------\u001b[0m",
      "\u001b[1;31mValueError\u001b[0m                                Traceback (most recent call last)",
      "Cell \u001b[1;32mIn[11], line 1\u001b[0m\n\u001b[1;32m----> 1\u001b[0m dharani_list\u001b[38;5;241m.\u001b[39mindex(\u001b[38;5;241m2\u001b[39m,\u001b[38;5;241m34\u001b[39m)\n\u001b[0;32m      2\u001b[0m \u001b[38;5;28mprint\u001b[39m(dharani_list)\n",
      "\u001b[1;31mValueError\u001b[0m: 2 is not in list"
     ]
    }
   ],
   "source": [
    "dharani_list.index(2,34)\n",
    "print(dharani_list)"
   ]
  },
  {
   "cell_type": "code",
   "execution_count": 12,
   "id": "4acded4a",
   "metadata": {},
   "outputs": [
    {
     "name": "stdout",
     "output_type": "stream",
     "text": [
      "['Dharani', 9.567, 34, 'chowdary']\n"
     ]
    }
   ],
   "source": [
    "dharani_list.insert(2,34)\n",
    "print(dharani_list)"
   ]
  },
  {
   "cell_type": "code",
   "execution_count": 13,
   "id": "e370b3f6",
   "metadata": {},
   "outputs": [
    {
     "ename": "TypeError",
     "evalue": "'<' not supported between instances of 'float' and 'str'",
     "output_type": "error",
     "traceback": [
      "\u001b[1;31m---------------------------------------------------------------------------\u001b[0m",
      "\u001b[1;31mTypeError\u001b[0m                                 Traceback (most recent call last)",
      "Cell \u001b[1;32mIn[13], line 1\u001b[0m\n\u001b[1;32m----> 1\u001b[0m \u001b[38;5;28mmin\u001b[39m(dharani_list)\n\u001b[0;32m      2\u001b[0m \u001b[38;5;28mprint\u001b[39m(dharani_list)\n",
      "\u001b[1;31mTypeError\u001b[0m: '<' not supported between instances of 'float' and 'str'"
     ]
    }
   ],
   "source": [
    "min(dharani_list)\n",
    "print(dharani_list)"
   ]
  },
  {
   "cell_type": "code",
   "execution_count": 14,
   "id": "f874d604",
   "metadata": {},
   "outputs": [
    {
     "name": "stdout",
     "output_type": "stream",
     "text": [
      "9\n"
     ]
    }
   ],
   "source": [
    "dharani=[9,123,999,45.6]\n",
    "print(min(dharani))"
   ]
  },
  {
   "cell_type": "code",
   "execution_count": 15,
   "id": "706bd6ef",
   "metadata": {},
   "outputs": [
    {
     "name": "stdout",
     "output_type": "stream",
     "text": [
      "999\n"
     ]
    }
   ],
   "source": [
    "print(max(dharani))"
   ]
  },
  {
   "cell_type": "code",
   "execution_count": null,
   "id": "21fc8d61",
   "metadata": {},
   "outputs": [],
   "source": []
  }
 ],
 "metadata": {
  "kernelspec": {
   "display_name": "Python 3 (ipykernel)",
   "language": "python",
   "name": "python3"
  },
  "language_info": {
   "codemirror_mode": {
    "name": "ipython",
    "version": 3
   },
   "file_extension": ".py",
   "mimetype": "text/x-python",
   "name": "python",
   "nbconvert_exporter": "python",
   "pygments_lexer": "ipython3",
   "version": "3.11.4"
  }
 },
 "nbformat": 4,
 "nbformat_minor": 5
}
